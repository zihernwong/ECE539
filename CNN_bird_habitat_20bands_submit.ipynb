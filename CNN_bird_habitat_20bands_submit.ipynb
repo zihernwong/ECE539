{
 "cells": [
  {
   "cell_type": "code",
   "execution_count": 1,
   "id": "b6e35a1a",
   "metadata": {},
   "outputs": [],
   "source": [
    "import numpy as np\n",
    "import pandas as pd \n",
    "from sklearn.model_selection import train_test_split\n",
    "from sklearn.metrics import confusion_matrix, ConfusionMatrixDisplay\n",
    "from sklearn.utils import shuffle\n",
    "import matplotlib.pyplot as plt\n",
    "import seaborn as sns\n",
    "import random\n",
    "from tqdm import tqdm #to create progress bar\n",
    "import cv2 \n",
    "import os"
   ]
  },
  {
   "cell_type": "code",
   "execution_count": 1,
   "id": "4c4950bb",
   "metadata": {},
   "outputs": [],
   "source": [
    "import tensorflow as tf\n",
    "from tensorflow.keras.preprocessing.image import ImageDataGenerator, load_img\n",
    "from tensorflow.keras.utils import to_categorical\n",
    "from tensorflow.keras.models import Sequential\n",
    "from tensorflow.keras.layers import Conv2D, MaxPooling2D, Dropout, Flatten, Dense, Activation, BatchNormalization\n",
    "from tensorflow.keras.callbacks import EarlyStopping, ReduceLROnPlateau\n",
    "\n"
   ]
  },
  {
   "cell_type": "markdown",
   "id": "3c165083",
   "metadata": {},
   "source": [
    "### Constants"
   ]
  },
  {
   "cell_type": "code",
   "execution_count": 11,
   "id": "1d1959bf",
   "metadata": {},
   "outputs": [],
   "source": [
    "import os\n",
    "import  imageio.v2 as imageio\n",
    "import pandas as pd"
   ]
  },
  {
   "cell_type": "code",
   "execution_count": null,
   "id": "3294d8e5",
   "metadata": {},
   "outputs": [],
   "source": [
    "\n",
    "#os.chdir('F:\\\\akash\\\\CS539_project\\\\landsat_dhi\\\\rough')\n",
    "os.chdir('F:\\\\akash\\\\CNN\\\\CNN_inputs\\\\')\n",
    "absent = os.listdir(\"absent_50x50\") #absent_50x50\n",
    "present = os.listdir(\"present_50x50\") #present_50x50\n",
    "absentVec = []\n",
    "presentVec = []\n",
    "for img in absent:\n",
    "       img = imageio.imread(f\"absent_50x50/{img}\")\n",
    "       ar = img.flatten()\n",
    "       absentVec.append(ar)    \n",
    "absentdf = pd.DataFrame(absent)    \n",
    "absentdf.insert(loc=0,column =\"label\",value=1)\n",
    "\n",
    "for img in present:\n",
    "       img = imageio.imread(f\"present_50x50/{img}\")\n",
    "       ar = img.flatten()\n",
    "       presentVec.append(ar)    \n",
    "presentdf = pd.DataFrame(presentVec)    \n",
    "presentdf.insert(loc=0,column =\"label\",value=0)"
   ]
  },
  {
   "cell_type": "code",
   "execution_count": 341,
   "id": "b3ce8223",
   "metadata": {},
   "outputs": [
    {
     "data": {
      "text/plain": [
       "(2125, 60001)"
      ]
     },
     "execution_count": 341,
     "metadata": {},
     "output_type": "execute_result"
    }
   ],
   "source": [
    "data = pd.concat([absentdf,presentdf])      \n",
    "data = data.sample(frac=1)\n",
    "data.shape"
   ]
  },
  {
   "cell_type": "code",
   "execution_count": 342,
   "id": "1d1e52e0",
   "metadata": {},
   "outputs": [
    {
     "data": {
      "text/plain": [
       "(2125, 50, 50, 24)"
      ]
     },
     "execution_count": 342,
     "metadata": {},
     "output_type": "execute_result"
    }
   ],
   "source": [
    "data_train = data.drop('label',axis=1)\n",
    "data_train.shape\n",
    "X = np.array(data_train)\n",
    "X = X.reshape(-1,50,50,24)  #-1 = 234 here, the no of the points\n",
    "X.shape"
   ]
  },
  {
   "cell_type": "code",
   "execution_count": 343,
   "id": "97b0a9d7",
   "metadata": {},
   "outputs": [],
   "source": [
    "from sklearn.model_selection import train_test_split\n",
    "y = data.label\n",
    "#x = data.drop('label',axis=1)\n",
    "\n",
    "x_train,x_test,y_train,y_test=train_test_split(X[:,:,:,1:21],y,test_size=0.3)"
   ]
  },
  {
   "cell_type": "code",
   "execution_count": null,
   "id": "62c06a5d",
   "metadata": {},
   "outputs": [],
   "source": []
  },
  {
   "cell_type": "code",
   "execution_count": 262,
   "id": "4c93458a",
   "metadata": {},
   "outputs": [
    {
     "data": {
      "text/plain": [
       "<matplotlib.image.AxesImage at 0x22eb87cb700>"
      ]
     },
     "execution_count": 262,
     "metadata": {},
     "output_type": "execute_result"
    },
    {
     "data": {
      "image/png": "[encoded data removed]",
      "text/plain": [
       "<Figure size 432x288 with 1 Axes>"
      ]
     },
     "metadata": {
      "needs_background": "light"
     },
     "output_type": "display_data"
    }
   ],
   "source": [
    "plt.imshow(X[1,:,:,21])"
   ]
  },
  {
   "cell_type": "code",
   "execution_count": null,
   "id": "517c44ac",
   "metadata": {},
   "outputs": [],
   "source": []
  },
  {
   "cell_type": "code",
   "execution_count": 344,
   "id": "ce09c22a",
   "metadata": {},
   "outputs": [
    {
     "data": {
      "text/plain": [
       "(1487, 50, 50, 20)"
      ]
     },
     "execution_count": 344,
     "metadata": {},
     "output_type": "execute_result"
    }
   ],
   "source": [
    "x_train.shape"
   ]
  },
  {
   "cell_type": "code",
   "execution_count": 435,
   "id": "a6a62974",
   "metadata": {},
   "outputs": [
    {
     "name": "stdout",
     "output_type": "stream",
     "text": [
      "Model: \"sequential_62\"\n",
      "_________________________________________________________________\n",
      "Layer (type)                 Output Shape              Param #   \n",
      "=================================================================\n",
      "conv2d_210 (Conv2D)          (None, 48, 48, 16)        2896      \n",
      "_________________________________________________________________\n",
      "batch_normalization_195 (Bat (None, 48, 48, 16)        64        \n",
      "_________________________________________________________________\n",
      "max_pooling2d_155 (MaxPoolin (None, 6, 6, 16)          0         \n",
      "_________________________________________________________________\n",
      "conv2d_211 (Conv2D)          (None, 2, 2, 32)          12832     \n",
      "_________________________________________________________________\n",
      "batch_normalization_196 (Bat (None, 2, 2, 32)          128       \n",
      "_________________________________________________________________\n",
      "flatten_46 (Flatten)         (None, 128)               0         \n",
      "_________________________________________________________________\n",
      "dense_94 (Dense)             (None, 200)               25800     \n",
      "_________________________________________________________________\n",
      "batch_normalization_197 (Bat (None, 200)               800       \n",
      "_________________________________________________________________\n",
      "dropout_48 (Dropout)         (None, 200)               0         \n",
      "_________________________________________________________________\n",
      "dense_95 (Dense)             (None, 2)                 402       \n",
      "=================================================================\n",
      "Total params: 42,922\n",
      "Trainable params: 42,426\n",
      "Non-trainable params: 496\n",
      "_________________________________________________________________\n"
     ]
    }
   ],
   "source": [
    "model = Sequential()\n",
    "\n",
    "model.add(Conv2D(16, (3, 3), activation='relu', input_shape=(50,50,20)))\n",
    "model.add(BatchNormalization())\n",
    "model.add(MaxPooling2D(pool_size=(8, 8),strides=8))\n",
    "\n",
    "\n",
    "model.add(Conv2D(32, (5, 5), activation='relu'))\n",
    "model.add(BatchNormalization())\n",
    "#model.add(MaxPooling2D(pool_size=(8, 8)))\n",
    "#model.add(MaxPooling2D(pool_size=(2, 2)))\n",
    "\n",
    "#model.add(Conv2D(32, (3, 3), activation='relu'))\n",
    "#model.add(BatchNormalization())\n",
    "#model.add(MaxPooling2D(pool_size=(2, 2)))\n",
    "\n",
    "#model.add(Conv2D(64, (3, 3), activation='relu'))\n",
    "#model.add(BatchNormalization())\n",
    "#model.add(MaxPooling2D(pool_size=(2, 2)))\n",
    "\n",
    "#model.add(Conv2D(128, (3, 3), activation='relu'))\n",
    "#model.add(BatchNormalization())\n",
    "#model.add(MaxPooling2D(pool_size=(2, 2)))\n",
    "\n",
    "\n",
    "model.add(Flatten())\n",
    "model.add(Dense(200, activation='relu')) #relu\n",
    "model.add(BatchNormalization())\n",
    "model.add(Dropout(0.2))\n",
    "model.add(Dense(2, activation='softmax')) # 5 because we have 5 classes\n",
    "\n",
    "model.compile(loss='binary_crossentropy', optimizer=\"rmsprop\",metrics=['accuracy'])\n",
    "\n",
    "model.summary()"
   ]
  },
  {
   "cell_type": "code",
   "execution_count": 347,
   "id": "4a9407a9",
   "metadata": {},
   "outputs": [
    {
     "data": {
      "text/plain": [
       "False"
      ]
     },
     "execution_count": 347,
     "metadata": {},
     "output_type": "execute_result"
    }
   ],
   "source": [
    "np.any(np.isnan(y_test))"
   ]
  },
  {
   "cell_type": "code",
   "execution_count": 436,
   "id": "2c4c3f85",
   "metadata": {},
   "outputs": [
    {
     "name": "stdout",
     "output_type": "stream",
     "text": [
      "Epoch 1/10\n",
      "47/47 [==============================] - 46s 826ms/step - loss: 0.6409 - accuracy: 0.8070 - val_loss: 0.5991 - val_accuracy: 0.8056\n",
      "Epoch 2/10\n",
      "47/47 [==============================] - 25s 533ms/step - loss: 0.5686 - accuracy: 0.8151 - val_loss: 0.5508 - val_accuracy: 0.8056\n",
      "Epoch 3/10\n",
      "47/47 [==============================] - 34s 710ms/step - loss: 0.5299 - accuracy: 0.8151 - val_loss: 0.5244 - val_accuracy: 0.8056\n",
      "Epoch 4/10\n",
      "47/47 [==============================] - 26s 556ms/step - loss: 0.5082 - accuracy: 0.8151 - val_loss: 0.5102 - val_accuracy: 0.8056\n",
      "Epoch 5/10\n",
      "47/47 [==============================] - 27s 571ms/step - loss: 0.4964 - accuracy: 0.8151 - val_loss: 0.5023 - val_accuracy: 0.8056\n",
      "Epoch 6/10\n",
      "47/47 [==============================] - 26s 545ms/step - loss: 0.4892 - accuracy: 0.8151 - val_loss: 0.4978 - val_accuracy: 0.8056\n",
      "Epoch 7/10\n",
      "47/47 [==============================] - 25s 531ms/step - loss: 0.4853 - accuracy: 0.8151 - val_loss: 0.4953 - val_accuracy: 0.8056\n",
      "Epoch 8/10\n",
      "47/47 [==============================] - 24s 519ms/step - loss: 0.4831 - accuracy: 0.8151 - val_loss: 0.4939 - val_accuracy: 0.8056\n",
      "Epoch 9/10\n",
      "47/47 [==============================] - 27s 569ms/step - loss: 0.4819 - accuracy: 0.8151 - val_loss: 0.4931 - val_accuracy: 0.8056\n",
      "Epoch 10/10\n",
      "47/47 [==============================] - 43s 919ms/step - loss: 0.4808 - accuracy: 0.8151 - val_loss: 0.4928 - val_accuracy: 0.8056\n"
     ]
    }
   ],
   "source": [
    "tf.debugging.set_log_device_placement(True)\n",
    "opt = tf.keras.optimizers.SGD(learning_rate=0.005)\n",
    "model.compile(optimizer=opt,  # 'adam'\n",
    "              loss=tf.keras.losses.SparseCategoricalCrossentropy(from_logits=False), #True\n",
    "              metrics=['accuracy'])\n",
    "\n",
    "history = model.fit(x_train, y_train, epochs=10, \n",
    "                    validation_data=(x_test, y_test))"
   ]
  },
  {
   "cell_type": "code",
   "execution_count": null,
   "id": "5c8615e0",
   "metadata": {},
   "outputs": [],
   "source": []
  },
  {
   "cell_type": "code",
   "execution_count": 430,
   "id": "e3e6d7e3",
   "metadata": {},
   "outputs": [
    {
     "name": "stdout",
     "output_type": "stream",
     "text": [
      "20/20 - 1s - loss: 0.4927 - accuracy: 0.8056\n"
     ]
    },
    {
     "data": {
      "image/png": "[encoded data removed]",
      "text/plain": [
       "<Figure size 432x288 with 1 Axes>"
      ]
     },
     "metadata": {
      "needs_background": "light"
     },
     "output_type": "display_data"
    }
   ],
   "source": [
    "plt.plot(history.history['accuracy'], label='Accuracy')\n",
    "plt.plot(history.history['val_accuracy'], label = 'validation Accuracy')\n",
    "plt.xlabel('Epoch')\n",
    "plt.ylabel('Accuracy')\n",
    "plt.ylim([0, 1])\n",
    "plt.legend(loc='lower right')\n",
    "\n",
    "test_loss, test_acc = model.evaluate(x_test,  y_test, verbose=2)"
   ]
  },
  {
   "cell_type": "code",
   "execution_count": 432,
   "id": "df31b1aa",
   "metadata": {},
   "outputs": [
    {
     "name": "stdout",
     "output_type": "stream",
     "text": [
      "20/20 - 0s - loss: 0.4927 - accuracy: 0.8056\n"
     ]
    },
    {
     "data": {
      "image/png": "[encoded data removed]",
      "text/plain": [
       "<Figure size 432x288 with 1 Axes>"
      ]
     },
     "metadata": {
      "needs_background": "light"
     },
     "output_type": "display_data"
    }
   ],
   "source": [
    "plt.plot(history.history['loss'], label='Training Loss')\n",
    "plt.plot(history.history['val_loss'], label = 'validation Loss')\n",
    "plt.xlabel('Epoch')\n",
    "plt.ylabel('Loss')\n",
    "plt.ylim([0, 1])\n",
    "plt.legend(loc='lower right')\n",
    "\n",
    "test_loss, test_acc = model.evaluate(x_test,  y_test, verbose=2)"
   ]
  }
 ],
 "metadata": {
  "kernelspec": {
   "display_name": "Python 3 (ipykernel)",
   "language": "python",
   "name": "python3"
  },
  "language_info": {
   "codemirror_mode": {
    "name": "ipython",
    "version": 3
   },
   "file_extension": ".py",
   "mimetype": "text/x-python",
   "name": "python",
   "nbconvert_exporter": "python",
   "pygments_lexer": "ipython3",
   "version": "3.9.12"
  }
 },
 "nbformat": 4,
 "nbformat_minor": 5
}
